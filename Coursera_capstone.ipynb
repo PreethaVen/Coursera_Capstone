{
  "nbformat": 4,
  "nbformat_minor": 0,
  "metadata": {
    "colab": {
      "name": "Coursera-capstone.ipynb",
      "provenance": [],
      "authorship_tag": "ABX9TyOkLzNWRMgLglLcLLAtwoL7",
      "include_colab_link": true
    },
    "kernelspec": {
      "name": "python3",
      "display_name": "Python 3"
    }
  },
  "cells": [
    {
      "cell_type": "markdown",
      "metadata": {
        "id": "view-in-github",
        "colab_type": "text"
      },
      "source": [
        "<a href=\"https://colab.research.google.com/github/PreethaVen/Coursera_Capstone/blob/main/Coursera_capstone.ipynb\" target=\"_parent\"><img src=\"https://colab.research.google.com/assets/colab-badge.svg\" alt=\"Open In Colab\"/></a>"
      ]
    },
    {
      "cell_type": "markdown",
      "metadata": {
        "id": "LdsiMKqrrMAC"
      },
      "source": [
        "###This Notebook will maily be used for the IBM Professional Data Science certification - Capstone project"
      ]
    },
    {
      "cell_type": "markdown",
      "metadata": {
        "id": "DL1CfK5vrlyS"
      },
      "source": [
        "Importing the packages"
      ]
    },
    {
      "cell_type": "code",
      "metadata": {
        "id": "ga429_sMrFOT"
      },
      "source": [
        "import numpy as np\r\n",
        "import pandas as pd"
      ],
      "execution_count": 1,
      "outputs": []
    },
    {
      "cell_type": "code",
      "metadata": {
        "colab": {
          "base_uri": "https://localhost:8080/"
        },
        "id": "3MPmpYxdrr83",
        "outputId": "24614366-a237-485e-d369-c8e171f57022"
      },
      "source": [
        "print(\"Hello Capstone Project Course!\")"
      ],
      "execution_count": 2,
      "outputs": [
        {
          "output_type": "stream",
          "text": [
            "Hello Capstone Project Course!\n"
          ],
          "name": "stdout"
        }
      ]
    },
    {
      "cell_type": "code",
      "metadata": {
        "id": "fN32ZVHCr4Zh"
      },
      "source": [
        ""
      ],
      "execution_count": null,
      "outputs": []
    }
  ]
}